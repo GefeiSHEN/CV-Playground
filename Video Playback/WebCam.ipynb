{
 "cells": [
  {
   "cell_type": "markdown",
   "id": "eaea2b03-2c0f-4c2b-9039-d96524d7d7b8",
   "metadata": {},
   "source": [
    "# A Basic Webcam"
   ]
  },
  {
   "cell_type": "code",
   "execution_count": 1,
   "id": "0f21b490-4a83-4ab0-bcde-c1c021f20e84",
   "metadata": {},
   "outputs": [],
   "source": [
    "import cv2"
   ]
  },
  {
   "cell_type": "code",
   "execution_count": 2,
   "id": "27aa31d1-0dfe-4c47-b1b9-8ac8d4cf735d",
   "metadata": {},
   "outputs": [],
   "source": [
    "cap = cv2.VideoCapture(0)\n",
    "\n",
    "if not cap.isOpened():\n",
    "    print(\"Error: Could not open the webcam.\")\n",
    "    exit()\n",
    "\n",
    "slider_position = 0\n",
    "g_capture = 0\n",
    "\n",
    "while True:\n",
    "    ret, frame = cap.read()\n",
    "\n",
    "    cv2.imshow('Webcam', frame)\n",
    "    cv2.startWindowThread()\n",
    "\n",
    "    if not ret:\n",
    "        break\n",
    "\n",
    "    # Break on keyboard input Q\n",
    "    c = cv2.waitKey(33)\n",
    "    if c == ord('q'):\n",
    "      break\n",
    "\n",
    "cap.release()\n",
    "cv2.destroyAllWindows()\n",
    "for i in range(2):\n",
    "    cv2.waitKey(1)"
   ]
  },
  {
   "cell_type": "code",
   "execution_count": null,
   "id": "751e84bc-1791-47ce-9ef8-7957981ddc96",
   "metadata": {},
   "outputs": [],
   "source": []
  }
 ],
 "metadata": {
  "kernelspec": {
   "display_name": "Python 3 (ipykernel)",
   "language": "python",
   "name": "python3"
  },
  "language_info": {
   "codemirror_mode": {
    "name": "ipython",
    "version": 3
   },
   "file_extension": ".py",
   "mimetype": "text/x-python",
   "name": "python",
   "nbconvert_exporter": "python",
   "pygments_lexer": "ipython3",
   "version": "3.11.4"
  }
 },
 "nbformat": 4,
 "nbformat_minor": 5
}
