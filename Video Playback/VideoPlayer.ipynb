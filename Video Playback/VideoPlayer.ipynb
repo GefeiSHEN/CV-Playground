{
 "cells": [
  {
   "cell_type": "code",
   "execution_count": 2,
   "id": "284fb2ff-538f-4d39-91de-ad729c4f4d60",
   "metadata": {},
   "outputs": [],
   "source": [
    "import cv2"
   ]
  },
  {
   "cell_type": "code",
   "execution_count": 4,
   "id": "9cc412f2-ae43-4be9-aa3b-015488331d8a",
   "metadata": {},
   "outputs": [],
   "source": [
    "# Open the video file\n",
    "cap = cv2.VideoCapture('test.mp4')\n",
    "\n",
    "# Check if the video file was opened successfully\n",
    "if not cap.isOpened():\n",
    "    print(\"Error: Could not open video file.\")\n",
    "    exit()\n",
    "    \n",
    "# Loop to read and display frames from the video\n",
    "while True:\n",
    "    # Read a frame from the video\n",
    "    ret, frame = cap.read()\n",
    "\n",
    "    # Display the frame in a window\n",
    "    cv2.imshow('Video', frame)\n",
    "    cv2.startWindowThread()\n",
    "\n",
    "    # Break on error\n",
    "    if not ret:\n",
    "        break\n",
    "\n",
    "    # Break on keyboard input Q\n",
    "    if cv2.waitKey(25) & 0xFF == ord('q'):\n",
    "      break\n",
    "\n",
    "# Release the video capture object and close all OpenCV windows\n",
    "# Refer to https://stackoverflow.com/questions/52682261/why-cv2-destroyallwindows-does-not-work-on-mac\n",
    "cap.release()\n",
    "cv2.destroyAllWindows()\n",
    "for i in range(2):\n",
    "    cv2.waitKey(1)"
   ]
  },
  {
   "cell_type": "code",
   "execution_count": null,
   "id": "af4cd16f-c83a-4484-911c-3545c2ab9bb7",
   "metadata": {},
   "outputs": [],
   "source": []
  }
 ],
 "metadata": {
  "kernelspec": {
   "display_name": "Python 3 (ipykernel)",
   "language": "python",
   "name": "python3"
  },
  "language_info": {
   "codemirror_mode": {
    "name": "ipython",
    "version": 3
   },
   "file_extension": ".py",
   "mimetype": "text/x-python",
   "name": "python",
   "nbconvert_exporter": "python",
   "pygments_lexer": "ipython3",
   "version": "3.11.4"
  }
 },
 "nbformat": 4,
 "nbformat_minor": 5
}
